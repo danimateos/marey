{
 "metadata": {
  "name": "",
  "signature": "sha256:ba7d6d9cd75352c26343260640ef20ff4cf21ae36de6ba0d04d5c641ab4aed97"
 },
 "nbformat": 3,
 "nbformat_minor": 0,
 "worksheets": [
  {
   "cells": [
    {
     "cell_type": "code",
     "collapsed": false,
     "input": [
      "import GeoBases\n",
      "import time"
     ],
     "language": "python",
     "metadata": {},
     "outputs": [],
     "prompt_number": 25
    },
    {
     "cell_type": "code",
     "collapsed": false,
     "input": [
      "geo = GeoBases.GeoBase(data='airports', verbose = False)"
     ],
     "language": "python",
     "metadata": {},
     "outputs": [],
     "prompt_number": 18
    },
    {
     "cell_type": "code",
     "collapsed": false,
     "input": [
      "flight1 = [(\"MAD\", \"1600\"),\n",
      "           (\"CDG\", \"1805\"),\n",
      "           (\"CDG\",\"1930\"),\n",
      "           (\"ARN\", \"2200\")]\n",
      "\n",
      "flight2 = [(\"MAD\", \"1305\"),\n",
      "           (\"AMS\", \"1540\"),\n",
      "           (\"AMS\", \"1700\"),\n",
      "           (\"ARN\", \"1900\"),]"
     ],
     "language": "python",
     "metadata": {},
     "outputs": [],
     "prompt_number": 9
    },
    {
     "cell_type": "code",
     "collapsed": false,
     "input": [
      "geo.distance(\"MAD\",\"ARN\")\n",
      "timeFormat = \"%H%M\"\n",
      "time.strptime(\"1900\", timeFormat)"
     ],
     "language": "python",
     "metadata": {},
     "outputs": [
      {
       "metadata": {},
       "output_type": "pyout",
       "prompt_number": 28,
       "text": [
        "time.struct_time(tm_year=1900, tm_mon=1, tm_mday=1, tm_hour=19, tm_min=0, tm_sec=0, tm_wday=0, tm_yday=1, tm_isdst=-1)"
       ]
      }
     ],
     "prompt_number": 28
    }
   ],
   "metadata": {}
  }
 ]
}