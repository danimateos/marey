{
 "metadata": {
  "name": "",
  "signature": "sha256:f700e81ad73a2dbd5ca695d3b28bcb06883c2bae94114a185835faa7cdeaf9df"
 },
 "nbformat": 3,
 "nbformat_minor": 0,
 "worksheets": [
  {
   "cells": [
    {
     "cell_type": "code",
     "collapsed": false,
     "input": [
      "import GeoBases\n",
      "import datetime as dt\n",
      "import seaborn as sns\n",
      "import pandas as pd"
     ],
     "language": "python",
     "metadata": {},
     "outputs": [],
     "prompt_number": 1
    },
    {
     "cell_type": "code",
     "collapsed": false,
     "input": [
      "geo = GeoBases.GeoBase(data='airports', verbose = False)"
     ],
     "language": "python",
     "metadata": {},
     "outputs": [],
     "prompt_number": 2
    },
    {
     "cell_type": "code",
     "collapsed": false,
     "input": [
      "flight1 = [(\"MAD\", \"2015-01-30 16:00\"),\n",
      "           (\"CDG\", \"2015-01-30 18:05\"),\n",
      "           (\"CDG\",\"2015-01-30 19:30\"),\n",
      "           (\"ARN\", \"2015-01-30 22:00\")]\n",
      "\n",
      "flight2 = [(\"MAD\", \"2015-01-30 13:05\"),\n",
      "           (\"AMS\", \"2015-01-30 15:40\"),\n",
      "           (\"AMS\", \"2015-01-30 17:00\"),\n",
      "           (\"ARN\", \"2015-01-30 19:00\"),]"
     ],
     "language": "python",
     "metadata": {},
     "outputs": [],
     "prompt_number": 3
    },
    {
     "cell_type": "code",
     "collapsed": false,
     "input": [
      "flights = pd.DataFrame.from_csv('flights.csv', index_col=(0,1,2), sep='^')"
     ],
     "language": "python",
     "metadata": {},
     "outputs": [],
     "prompt_number": 4
    },
    {
     "cell_type": "code",
     "collapsed": false,
     "input": [
      "data = {'outbound' : [('LH1807', 'LH2416'), \n",
      "                      ('LH1807', 'LH2416'),\n",
      "                      ('DY5408'),\n",
      "                      ('SR2021', 'SR1254'),\n",
      "                      ('VY1002', 'VY1265'),\n",
      "                      ('AF1601', 'AF1462')],\n",
      "        \n",
      "        'inbound' : [('LH2417', 'LH1806'),\n",
      "                     ('SR1249', 'SR2032'),\n",
      "                     ('DY5409'),\n",
      "                     ('SR1249', 'SR2032'),\n",
      "                     ('IB3685'),\n",
      "                     ('AF1263', 'AF1900')]\n",
      "}\n",
      "\n",
      "kayak = pd.DataFrame(data)\n",
      "kayak.head()"
     ],
     "language": "python",
     "metadata": {},
     "outputs": [
      {
       "html": [
        "<div style=\"max-height:1000px;max-width:1500px;overflow:auto;\">\n",
        "<table border=\"1\" class=\"dataframe\">\n",
        "  <thead>\n",
        "    <tr style=\"text-align: right;\">\n",
        "      <th></th>\n",
        "      <th>inbound</th>\n",
        "      <th>outbound</th>\n",
        "    </tr>\n",
        "  </thead>\n",
        "  <tbody>\n",
        "    <tr>\n",
        "      <th>0</th>\n",
        "      <td> (LH2417, LH1806)</td>\n",
        "      <td> (LH1807, LH2416)</td>\n",
        "    </tr>\n",
        "    <tr>\n",
        "      <th>1</th>\n",
        "      <td> (SR1249, SR2032)</td>\n",
        "      <td> (LH1807, LH2416)</td>\n",
        "    </tr>\n",
        "    <tr>\n",
        "      <th>2</th>\n",
        "      <td>           DY5409</td>\n",
        "      <td>           DY5408</td>\n",
        "    </tr>\n",
        "    <tr>\n",
        "      <th>3</th>\n",
        "      <td> (SR1249, SR2032)</td>\n",
        "      <td> (SR2021, SR1254)</td>\n",
        "    </tr>\n",
        "    <tr>\n",
        "      <th>4</th>\n",
        "      <td>           IB3685</td>\n",
        "      <td> (VY1002, VY1265)</td>\n",
        "    </tr>\n",
        "  </tbody>\n",
        "</table>\n",
        "<p>5 rows \u00d7 2 columns</p>\n",
        "</div>"
       ],
       "metadata": {},
       "output_type": "pyout",
       "prompt_number": 5,
       "text": [
        "            inbound          outbound\n",
        "0  (LH2417, LH1806)  (LH1807, LH2416)\n",
        "1  (SR1249, SR2032)  (LH1807, LH2416)\n",
        "2            DY5409            DY5408\n",
        "3  (SR1249, SR2032)  (SR2021, SR1254)\n",
        "4            IB3685  (VY1002, VY1265)\n",
        "\n",
        "[5 rows x 2 columns]"
       ]
      }
     ],
     "prompt_number": 5
    },
    {
     "cell_type": "code",
     "collapsed": false,
     "input": [
      "flights.head()"
     ],
     "language": "python",
     "metadata": {},
     "outputs": [
      {
       "html": [
        "<div style=\"max-height:1000px;max-width:1500px;overflow:auto;\">\n",
        "<table border=\"1\" class=\"dataframe\">\n",
        "  <thead>\n",
        "    <tr style=\"text-align: right;\">\n",
        "      <th></th>\n",
        "      <th></th>\n",
        "      <th></th>\n",
        "      <th>port</th>\n",
        "      <th>dateTime</th>\n",
        "    </tr>\n",
        "    <tr>\n",
        "      <th>carrierCode</th>\n",
        "      <th>flightNumber</th>\n",
        "      <th>stopType</th>\n",
        "      <th></th>\n",
        "      <th></th>\n",
        "    </tr>\n",
        "  </thead>\n",
        "  <tbody>\n",
        "    <tr>\n",
        "      <th rowspan=\"5\" valign=\"top\">LH</th>\n",
        "      <th rowspan=\"2\" valign=\"top\">1807</th>\n",
        "      <th>BRD</th>\n",
        "      <td> MAD</td>\n",
        "      <td> 2015-01-30 07:40</td>\n",
        "    </tr>\n",
        "    <tr>\n",
        "      <th>OFF</th>\n",
        "      <td> MUC</td>\n",
        "      <td> 2015-01-30 10:15</td>\n",
        "    </tr>\n",
        "    <tr>\n",
        "      <th rowspan=\"2\" valign=\"top\">2416</th>\n",
        "      <th>BRD</th>\n",
        "      <td> MUC</td>\n",
        "      <td> 2015-01-30 12:10</td>\n",
        "    </tr>\n",
        "    <tr>\n",
        "      <th>OFF</th>\n",
        "      <td> ARN</td>\n",
        "      <td> 2015-01-30 14:20</td>\n",
        "    </tr>\n",
        "    <tr>\n",
        "      <th>2417</th>\n",
        "      <th>BRD</th>\n",
        "      <td> ARN</td>\n",
        "      <td> 2015-02-02 15:00</td>\n",
        "    </tr>\n",
        "  </tbody>\n",
        "</table>\n",
        "<p>5 rows \u00d7 2 columns</p>\n",
        "</div>"
       ],
       "metadata": {},
       "output_type": "pyout",
       "prompt_number": 6,
       "text": [
        "                                  port          dateTime\n",
        "carrierCode flightNumber stopType                       \n",
        "LH          1807         BRD       MAD  2015-01-30 07:40\n",
        "                         OFF       MUC  2015-01-30 10:15\n",
        "            2416         BRD       MUC  2015-01-30 12:10\n",
        "                         OFF       ARN  2015-01-30 14:20\n",
        "            2417         BRD       ARN  2015-02-02 15:00\n",
        "\n",
        "[5 rows x 2 columns]"
       ]
      }
     ],
     "prompt_number": 6
    },
    {
     "cell_type": "code",
     "collapsed": false,
     "input": [
      "flights['port'].head()"
     ],
     "language": "python",
     "metadata": {},
     "outputs": [
      {
       "metadata": {},
       "output_type": "pyout",
       "prompt_number": 7,
       "text": [
        "carrierCode  flightNumber  stopType\n",
        "LH           1807          BRD         MAD\n",
        "                           OFF         MUC\n",
        "             2416          BRD         MUC\n",
        "                           OFF         ARN\n",
        "             2417          BRD         ARN\n",
        "Name: port, dtype: object"
       ]
      }
     ],
     "prompt_number": 7
    },
    {
     "cell_type": "code",
     "collapsed": false,
     "input": [
      "flights.ix['AF'].head()\n"
     ],
     "language": "python",
     "metadata": {},
     "outputs": [
      {
       "html": [
        "<div style=\"max-height:1000px;max-width:1500px;overflow:auto;\">\n",
        "<table border=\"1\" class=\"dataframe\">\n",
        "  <thead>\n",
        "    <tr style=\"text-align: right;\">\n",
        "      <th></th>\n",
        "      <th></th>\n",
        "      <th>port</th>\n",
        "      <th>dateTime</th>\n",
        "    </tr>\n",
        "    <tr>\n",
        "      <th>flightNumber</th>\n",
        "      <th>stopType</th>\n",
        "      <th></th>\n",
        "      <th></th>\n",
        "    </tr>\n",
        "  </thead>\n",
        "  <tbody>\n",
        "    <tr>\n",
        "      <th rowspan=\"2\" valign=\"top\">1601</th>\n",
        "      <th>BRD</th>\n",
        "      <td> MAD</td>\n",
        "      <td> 2015-01-30 16:00</td>\n",
        "    </tr>\n",
        "    <tr>\n",
        "      <th>OFF</th>\n",
        "      <td> CDG</td>\n",
        "      <td> 2015-01-30 18:05</td>\n",
        "    </tr>\n",
        "    <tr>\n",
        "      <th rowspan=\"2\" valign=\"top\">1462</th>\n",
        "      <th>BRD</th>\n",
        "      <td> CDG</td>\n",
        "      <td> 2015-01-30 19:30</td>\n",
        "    </tr>\n",
        "    <tr>\n",
        "      <th>OFF</th>\n",
        "      <td> ARN</td>\n",
        "      <td> 2015-01-30 22:00</td>\n",
        "    </tr>\n",
        "    <tr>\n",
        "      <th>1263</th>\n",
        "      <th>BRD</th>\n",
        "      <td> ARN</td>\n",
        "      <td> 2015-02-02 13:15</td>\n",
        "    </tr>\n",
        "  </tbody>\n",
        "</table>\n",
        "<p>5 rows \u00d7 2 columns</p>\n",
        "</div>"
       ],
       "metadata": {},
       "output_type": "pyout",
       "prompt_number": 8,
       "text": [
        "                      port          dateTime\n",
        "flightNumber stopType                       \n",
        "1601         BRD       MAD  2015-01-30 16:00\n",
        "             OFF       CDG  2015-01-30 18:05\n",
        "1462         BRD       CDG  2015-01-30 19:30\n",
        "             OFF       ARN  2015-01-30 22:00\n",
        "1263         BRD       ARN  2015-02-02 13:15\n",
        "\n",
        "[5 rows x 2 columns]"
       ]
      }
     ],
     "prompt_number": 8
    },
    {
     "cell_type": "code",
     "collapsed": false,
     "input": [
      "dtFormat = \"%Y-%m-%d %H:%M\"\n",
      "top = dt.datetime(2015, 1, 30, 6)\n",
      "bottom = dt.datetime(2015, 1, 30, 23, 59) \n",
      "timeScale = (bottom - top).seconds\n",
      "\n",
      "def yPos(depArr): \n",
      "    relativeTime = dt.datetime.strptime(depArr, dtFormat) - top\n",
      "    return relativeTime.seconds * 1.0 / timeScale\n",
      "\n",
      "def totalDistance(listOfStops):\n",
      "    distance = 0\n",
      "    for i in range(len(listOfStops)-1):\n",
      "        distance += geo.distance(listOfStops[i][0], listOfStops[i+1][0])\n",
      "    return distance\n",
      "\n",
      "def flightToPoints(listOfStops):\n",
      "    xScale = totalDistance(listOfStops)\n",
      "    distanceCovered = 0.0\n",
      "    points = [(distanceCovered, yPos(listOfStops[0][1]))]\n",
      "    \n",
      "    for i in range(1, len(listOfStops)):\n",
      "        depTime = listOfStops[i][1]\n",
      "        y = yPos(depTime)\n",
      "        distance = geo.distance(listOfStops[i - 1][0],\\\n",
      "                                listOfStops[i][0])\n",
      "        distanceCovered += distance\n",
      "        points.append((distanceCovered / xScale, y))\n",
      "    \n",
      "    return points      "
     ],
     "language": "python",
     "metadata": {},
     "outputs": [],
     "prompt_number": 9
    },
    {
     "cell_type": "code",
     "collapsed": false,
     "input": [
      "xSeries, ySeries = zip(*flightToPoints(flight1))\n",
      "plt.plot(xSeries, ySeries)"
     ],
     "language": "python",
     "metadata": {},
     "outputs": [
      {
       "metadata": {},
       "output_type": "pyout",
       "prompt_number": 10,
       "text": [
        "[<matplotlib.lines.Line2D at 0x7f511963ee10>]"
       ]
      },
      {
       "metadata": {},
       "output_type": "display_data",
       "png": "[encoded data removed]",
       "text": [
        "<matplotlib.figure.Figure at 0x7f51360fafd0>"
       ]
      }
     ],
     "prompt_number": 10
    },
    {
     "cell_type": "code",
     "collapsed": false,
     "input": [],
     "language": "python",
     "metadata": {},
     "outputs": []
    }
   ],
   "metadata": {}
  }
 ]
}