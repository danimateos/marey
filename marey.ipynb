{
 "metadata": {
  "name": "",
  "signature": "sha256:74cf2b11092b5d9edcffcffeef7e15fddb13b110e22a8bc2c73a20fa27f21a32"
 },
 "nbformat": 3,
 "nbformat_minor": 0,
 "worksheets": [
  {
   "cells": [
    {
     "cell_type": "code",
     "collapsed": false,
     "input": [
      "import GeoBases\n",
      "import datetime as dt"
     ],
     "language": "python",
     "metadata": {},
     "outputs": [],
     "prompt_number": 13
    },
    {
     "cell_type": "code",
     "collapsed": false,
     "input": [
      "geo = GeoBases.GeoBase(data='airports', verbose = False)"
     ],
     "language": "python",
     "metadata": {},
     "outputs": [],
     "prompt_number": 4
    },
    {
     "cell_type": "code",
     "collapsed": false,
     "input": [
      "flight1 = [(\"MAD\", \"2015-01-30 16:00\"),\n",
      "           (\"CDG\", \"2015-01-30 18:05\"),\n",
      "           (\"CDG\",\"2015-01-30 19:30\"),\n",
      "           (\"ARN\", \"2015-01-30 22:00\")]\n",
      "\n",
      "flight2 = [(\"MAD\", \"2015-01-30 13:05\"),\n",
      "           (\"AMS\", \"2015-01-30 15:40\"),\n",
      "           (\"AMS\", \"2015-01-30 17:00\"),\n",
      "           (\"ARN\", \"2015-01-30 19:00\"),]"
     ],
     "language": "python",
     "metadata": {},
     "outputs": [],
     "prompt_number": 36
    },
    {
     "cell_type": "code",
     "collapsed": false,
     "input": [
      "geo.distance(\"MAD\",\"ARN\")\n",
      "timeFormat = \"%H%M\"\n",
      "dtFormat = \"%Y-%m-%d %H:%M\"\n",
      "dt.datetime.strptime(\"2015-01-30 19:00\", dtFormat)\n"
     ],
     "language": "python",
     "metadata": {},
     "outputs": [
      {
       "metadata": {},
       "output_type": "pyout",
       "prompt_number": 37,
       "text": [
        "datetime.datetime(2015, 1, 30, 19, 0)"
       ]
      }
     ],
     "prompt_number": 37
    },
    {
     "cell_type": "code",
     "collapsed": false,
     "input": [
      "top = dt.datetime(2015, 1, 30, 6)\n",
      "bottom = dt.datetime(2015, 1, 30, 23, 59) \n",
      "timeScale = (bottom - top).seconds\n",
      "\n",
      "def yPos(depArr): \n",
      "    relativeTime = dt.datetime.strptime(depArr, dtFormat) - top\n",
      "    return relativeTime.seconds * 1.0 / timeScale\n",
      "\n",
      "def xScale(listOfStops):\n",
      "    distance = 0\n",
      "    for i in range(len(listOfStops)-1):\n",
      "        distance += geo.distance(listOfStops[i][0], listOfStops[i+1][0])\n",
      "    return distance\n",
      "\n",
      "def flightToPoints(listOfStops):\n",
      "    res = []\n",
      "    xscale = xScale(listOfStops)\n",
      "    for i in range(len(listOfStops)-1):\n",
      "        dep = listOfStops[i]\n",
      "        arr = listOfStops[i+1]\n",
      "        relDistance = geo.distance(dep[0], arr[0]) / xscale\n",
      "        timeElapsed = dt.datetime.strptime(arr[1], dtFormat) \\\n",
      "            - dt.datetime.strptime(dep[1], dtFormat)\n",
      "        res.append((relDistance, timeElapsed.seconds / ))\n",
      "    return res\n",
      "flightToPoints(flight1)\n",
      "        \n",
      "        "
     ],
     "language": "python",
     "metadata": {},
     "outputs": [
      {
       "metadata": {},
       "output_type": "pyout",
       "prompt_number": 92,
       "text": [
        "[(0.40897088769626905, 7500), (0.0, 5100), (0.5910291123037308, 9000)]"
       ]
      }
     ],
     "prompt_number": 92
    }
   ],
   "metadata": {}
  }
 ]
}