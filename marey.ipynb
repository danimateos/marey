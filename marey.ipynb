{
 "metadata": {
  "name": "",
  "signature": "sha256:dc3a9ad3290f9721a5030049eba9392ff7a30fb001e19b3375ad973e48f2c582"
 },
 "nbformat": 3,
 "nbformat_minor": 0,
 "worksheets": [
  {
   "cells": [
    {
     "cell_type": "code",
     "collapsed": false,
     "input": [
      "import GeoBases\n",
      "import datetime as dt\n",
      "import matplotlib.pyplot as plt"
     ],
     "language": "python",
     "metadata": {},
     "outputs": [],
     "prompt_number": 3
    },
    {
     "cell_type": "code",
     "collapsed": false,
     "input": [
      "geo = GeoBases.GeoBase(data='airports', verbose = False)"
     ],
     "language": "python",
     "metadata": {},
     "outputs": [],
     "prompt_number": 4
    },
    {
     "cell_type": "code",
     "collapsed": false,
     "input": [
      "flight1 = [(\"MAD\", \"2015-01-30 16:00\"),\n",
      "           (\"CDG\", \"2015-01-30 18:05\"),\n",
      "           (\"CDG\",\"2015-01-30 19:30\"),\n",
      "           (\"ARN\", \"2015-01-30 22:00\")]\n",
      "\n",
      "flight2 = [(\"MAD\", \"2015-01-30 13:05\"),\n",
      "           (\"AMS\", \"2015-01-30 15:40\"),\n",
      "           (\"AMS\", \"2015-01-30 17:00\"),\n",
      "           (\"ARN\", \"2015-01-30 19:00\"),]"
     ],
     "language": "python",
     "metadata": {},
     "outputs": [],
     "prompt_number": 5
    },
    {
     "cell_type": "code",
     "collapsed": false,
     "input": [
      "geo.distance(\"MAD\",\"ARN\")\n",
      "timeFormat = \"%H%M\"\n",
      "dtFormat = \"%Y-%m-%d %H:%M\"\n",
      "dt.datetime.strptime(\"2015-01-30 19:00\", dtFormat)\n"
     ],
     "language": "python",
     "metadata": {},
     "outputs": [
      {
       "metadata": {},
       "output_type": "pyout",
       "prompt_number": 6,
       "text": [
        "datetime.datetime(2015, 1, 30, 19, 0)"
       ]
      }
     ],
     "prompt_number": 6
    },
    {
     "cell_type": "code",
     "collapsed": false,
     "input": [
      "top = dt.datetime(2015, 1, 30, 6)\n",
      "bottom = dt.datetime(2015, 1, 30, 23, 59) \n",
      "timeScale = (bottom - top).seconds\n",
      "\n",
      "def yPos(depArr): \n",
      "    relativeTime = dt.datetime.strptime(depArr, dtFormat) - top\n",
      "    return relativeTime.seconds * 1.0 / timeScale\n",
      "\n",
      "def totalDistance(listOfStops):\n",
      "    distance = 0\n",
      "    for i in range(len(listOfStops)-1):\n",
      "        distance += geo.distance(listOfStops[i][0], listOfStops[i+1][0])\n",
      "    return distance\n",
      "\n",
      "def flightToPoints(listOfStops):\n",
      "    xScale = totalDistance(listOfStops)\n",
      "    distanceCovered = 0.0\n",
      "    points = [(distanceCovered, yPos(listOfStops[0][1]))]\n",
      "    \n",
      "    for i in range(1, len(listOfStops)):\n",
      "        depTime = listOfStops[i][1]\n",
      "        y = yPos(depTime)\n",
      "        distance = geo.distance(listOfStops[i - 1][0],\\\n",
      "                                listOfStops[i][0])\n",
      "        distanceCovered += distance\n",
      "        points.append((distanceCovered / xScale, y))\n",
      "    \n",
      "    return points      "
     ],
     "language": "python",
     "metadata": {},
     "outputs": [],
     "prompt_number": 11
    },
    {
     "cell_type": "code",
     "collapsed": false,
     "input": [
      "plt.plot(flightToPoints(flight2))"
     ],
     "language": "python",
     "metadata": {},
     "outputs": [
      {
       "metadata": {},
       "output_type": "pyout",
       "prompt_number": 12,
       "text": [
        "[<matplotlib.lines.Line2D at 0x7f291ee58210>,\n",
        " <matplotlib.lines.Line2D at 0x7f291ee58390>]"
       ]
      },
      {
       "metadata": {},
       "output_type": "display_data",
       "png": "[encoded data removed]",
       "text": [
        "<matplotlib.figure.Figure at 0x7f2926a32810>"
       ]
      }
     ],
     "prompt_number": 12
    }
   ],
   "metadata": {}
  }
 ]
}